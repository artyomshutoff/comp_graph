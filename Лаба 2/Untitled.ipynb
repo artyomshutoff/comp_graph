{
 "cells": [
  {
   "cell_type": "code",
   "execution_count": 1,
   "id": "570b17c0",
   "metadata": {},
   "outputs": [
    {
     "name": "stdout",
     "output_type": "stream",
     "text": [
      "Введите количество вершин:6\n",
      "\n",
      "Введите матрицу смежности\n",
      "Введите 1 строку: 0 1 1 0 1 0\n",
      "Введите 2 строку: 0 1 0 0 1 0\n",
      "Введите 3 строку: 0 0 0 0 0 0\n",
      "Введите 4 строку: 0 0 1 0 0 0\n",
      "Введите 5 строку: 0 0 0 1 0 0\n",
      "Введите 6 строку: 1 0 0 0 1 1\n",
      "Local cdn resources have problems on chrome/safari when used in jupyter-notebook. \n"
     ]
    },
    {
     "data": {
      "text/html": [
       "\n",
       "        <iframe\n",
       "            width=\"100%\"\n",
       "            height=\"600px\"\n",
       "            src=\"nodes.html\"\n",
       "            frameborder=\"0\"\n",
       "            allowfullscreen\n",
       "            \n",
       "        ></iframe>\n",
       "        "
      ],
      "text/plain": [
       "<IPython.lib.display.IFrame at 0x29cc2338ac0>"
      ]
     },
     "execution_count": 1,
     "metadata": {},
     "output_type": "execute_result"
    }
   ],
   "source": [
    "from pyvis.network import Network\n",
    "\n",
    "\n",
    "def edges_generator(l, n):\n",
    "    edges = []\n",
    "    for i in range(n):\n",
    "        for j in range(n):\n",
    "            if l[i][j]:\n",
    "                edges.append((i + 1, j + 1))\n",
    "    return edges\n",
    "\n",
    "\n",
    "n = int(input(\"Введите количество вершин:\"))\n",
    "print(\"\\nВведите матрицу смежности\")\n",
    "adjacency_matrix = []\n",
    "for i in range(n):\n",
    "    stroke = list(map(int, input(f\"Введите {i + 1} строку: \").split()))\n",
    "    adjacency_matrix.append(stroke)\n",
    "\n",
    "directed = (\n",
    "    False\n",
    "    if list(map(list, zip(*adjacency_matrix))) == adjacency_matrix\n",
    "    else True\n",
    ")\n",
    "\n",
    "net = Network(\n",
    "    notebook=True,\n",
    "    bgcolor=\"#222222\",\n",
    "    font_color=\"white\",\n",
    "    height=\"600px\",\n",
    "    width=\"100%\",\n",
    "    directed=True,\n",
    ")\n",
    "\n",
    "nodes = [i + 1 for i in range(n)]\n",
    "\n",
    "net.add_nodes(nodes, label=[str(i) for i in nodes])\n",
    "edges = edges_generator(adjacency_matrix, n)\n",
    "filtered_edges = []\n",
    "edges_plot = []\n",
    "for i in edges:\n",
    "    if i[::-1] not in filtered_edges:\n",
    "        filtered_edges.append(i)\n",
    "        edges_plot.append((i[0], i[1], 0 if i[::-1] in edges else 1))\n",
    "\n",
    "for i in edges_plot:\n",
    "    net.add_edge(source=i[0], to=i[1], arrows=\"to\" if i[2] else \"false\")\n",
    "\n",
    "net.show(\"nodes.html\")\n"
   ]
  },
  {
   "cell_type": "code",
   "execution_count": null,
   "id": "a489f189",
   "metadata": {},
   "outputs": [],
   "source": []
  },
  {
   "cell_type": "code",
   "execution_count": null,
   "id": "09cfae16",
   "metadata": {},
   "outputs": [],
   "source": []
  }
 ],
 "metadata": {
  "kernelspec": {
   "display_name": "Python 3 (ipykernel)",
   "language": "python",
   "name": "python3"
  },
  "language_info": {
   "codemirror_mode": {
    "name": "ipython",
    "version": 3
   },
   "file_extension": ".py",
   "mimetype": "text/x-python",
   "name": "python",
   "nbconvert_exporter": "python",
   "pygments_lexer": "ipython3",
   "version": "3.9.12"
  }
 },
 "nbformat": 4,
 "nbformat_minor": 5
}
